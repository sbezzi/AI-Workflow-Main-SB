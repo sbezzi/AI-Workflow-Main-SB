{
 "cells": [
  {
   "cell_type": "markdown",
   "metadata": {},
   "source": [
    "# Case Study - Part 1\n"
   ]
  },
  {
   "cell_type": "code",
   "execution_count": 31,
   "metadata": {},
   "outputs": [],
   "source": [
    "\n",
    "from cslib import *\n"
   ]
  },
  {
   "cell_type": "code",
   "execution_count": 32,
   "metadata": {
    "scrolled": true
   },
   "outputs": [
    {
     "data": {
      "text/html": [
       "<div>\n",
       "<style scoped>\n",
       "    .dataframe tbody tr th:only-of-type {\n",
       "        vertical-align: middle;\n",
       "    }\n",
       "\n",
       "    .dataframe tbody tr th {\n",
       "        vertical-align: top;\n",
       "    }\n",
       "\n",
       "    .dataframe thead th {\n",
       "        text-align: right;\n",
       "    }\n",
       "</style>\n",
       "<table border=\"1\" class=\"dataframe\">\n",
       "  <thead>\n",
       "    <tr style=\"text-align: right;\">\n",
       "      <th></th>\n",
       "      <th>country</th>\n",
       "      <th>customer_id</th>\n",
       "      <th>day</th>\n",
       "      <th>invoice</th>\n",
       "      <th>month</th>\n",
       "      <th>price</th>\n",
       "      <th>stream_id</th>\n",
       "      <th>times_viewed</th>\n",
       "      <th>year</th>\n",
       "      <th>invoice_date</th>\n",
       "    </tr>\n",
       "  </thead>\n",
       "  <tbody>\n",
       "    <tr>\n",
       "      <th>0</th>\n",
       "      <td>United Kingdom</td>\n",
       "      <td>17998.0</td>\n",
       "      <td>28</td>\n",
       "      <td>489562</td>\n",
       "      <td>11</td>\n",
       "      <td>5.95</td>\n",
       "      <td>84656</td>\n",
       "      <td>1</td>\n",
       "      <td>2017</td>\n",
       "      <td>2017-11-28</td>\n",
       "    </tr>\n",
       "    <tr>\n",
       "      <th>1</th>\n",
       "      <td>United Kingdom</td>\n",
       "      <td>13085.0</td>\n",
       "      <td>28</td>\n",
       "      <td>489434</td>\n",
       "      <td>11</td>\n",
       "      <td>6.75</td>\n",
       "      <td>79323W</td>\n",
       "      <td>12</td>\n",
       "      <td>2017</td>\n",
       "      <td>2017-11-28</td>\n",
       "    </tr>\n",
       "    <tr>\n",
       "      <th>2</th>\n",
       "      <td>United Kingdom</td>\n",
       "      <td>13085.0</td>\n",
       "      <td>28</td>\n",
       "      <td>489434</td>\n",
       "      <td>11</td>\n",
       "      <td>2.10</td>\n",
       "      <td>22041</td>\n",
       "      <td>21</td>\n",
       "      <td>2017</td>\n",
       "      <td>2017-11-28</td>\n",
       "    </tr>\n",
       "    <tr>\n",
       "      <th>3</th>\n",
       "      <td>United Kingdom</td>\n",
       "      <td>13085.0</td>\n",
       "      <td>28</td>\n",
       "      <td>489434</td>\n",
       "      <td>11</td>\n",
       "      <td>1.25</td>\n",
       "      <td>21232</td>\n",
       "      <td>5</td>\n",
       "      <td>2017</td>\n",
       "      <td>2017-11-28</td>\n",
       "    </tr>\n",
       "    <tr>\n",
       "      <th>4</th>\n",
       "      <td>United Kingdom</td>\n",
       "      <td>13085.0</td>\n",
       "      <td>28</td>\n",
       "      <td>489434</td>\n",
       "      <td>11</td>\n",
       "      <td>1.65</td>\n",
       "      <td>22064</td>\n",
       "      <td>17</td>\n",
       "      <td>2017</td>\n",
       "      <td>2017-11-28</td>\n",
       "    </tr>\n",
       "  </tbody>\n",
       "</table>\n",
       "</div>"
      ],
      "text/plain": [
       "          country  customer_id  day invoice  month  price stream_id  \\\n",
       "0  United Kingdom      17998.0   28  489562     11   5.95     84656   \n",
       "1  United Kingdom      13085.0   28  489434     11   6.75    79323W   \n",
       "2  United Kingdom      13085.0   28  489434     11   2.10     22041   \n",
       "3  United Kingdom      13085.0   28  489434     11   1.25     21232   \n",
       "4  United Kingdom      13085.0   28  489434     11   1.65     22064   \n",
       "\n",
       "   times_viewed  year invoice_date  \n",
       "0             1  2017   2017-11-28  \n",
       "1            12  2017   2017-11-28  \n",
       "2            21  2017   2017-11-28  \n",
       "3             5  2017   2017-11-28  \n",
       "4            17  2017   2017-11-28  "
      ]
     },
     "execution_count": 32,
     "metadata": {},
     "output_type": "execute_result"
    }
   ],
   "source": [
    "#load data and create a training set (dataframe)\n",
    "data_train='./training'\n",
    "df_raw=  fetch_data(data_train)\n",
    "df_raw.head()"
   ]
  },
  {
   "cell_type": "markdown",
   "metadata": {},
   "source": [
    "Question 1 Quiz Week 3"
   ]
  },
  {
   "cell_type": "code",
   "execution_count": 33,
   "metadata": {},
   "outputs": [
    {
     "name": "stdout",
     "output_type": "stream",
     "text": [
      "Number of days:  610.0\n"
     ]
    }
   ],
   "source": [
    "df_invoice_date=df_raw['invoice_date'].unique()\n",
    "span_days=df_invoice_date.max()-df_invoice_date.min()\n",
    "span_days=span_days.astype('timedelta64[D]')\n",
    "days_num=span_days/np.timedelta64(1, 'D')\n",
    "print('Number of days: ',days_num)"
   ]
  },
  {
   "cell_type": "code",
   "execution_count": 34,
   "metadata": {},
   "outputs": [],
   "source": [
    "df_ts=convert_to_ts(df_raw)"
   ]
  },
  {
   "cell_type": "code",
   "execution_count": 35,
   "metadata": {
    "scrolled": true
   },
   "outputs": [
    {
     "name": "stdout",
     "output_type": "stream",
     "text": [
      "<class 'pandas.core.frame.DataFrame'>\n",
      "RangeIndex: 607 entries, 0 to 606\n",
      "Data columns (total 7 columns):\n",
      " #   Column           Non-Null Count  Dtype         \n",
      "---  ------           --------------  -----         \n",
      " 0   date             607 non-null    datetime64[ns]\n",
      " 1   purchases        607 non-null    int64         \n",
      " 2   unique_invoices  607 non-null    int64         \n",
      " 3   unique_streams   607 non-null    int64         \n",
      " 4   total_views      607 non-null    int64         \n",
      " 5   year_month       607 non-null    object        \n",
      " 6   revenue          607 non-null    float64       \n",
      "dtypes: datetime64[ns](1), float64(1), int64(4), object(1)\n",
      "memory usage: 33.3+ KB\n"
     ]
    }
   ],
   "source": [
    "df_ts.info()"
   ]
  },
  {
   "cell_type": "markdown",
   "metadata": {},
   "source": [
    "Question 2 Week 3"
   ]
  },
  {
   "cell_type": "code",
   "execution_count": null,
   "metadata": {},
   "outputs": [],
   "source": []
  },
  {
   "cell_type": "code",
   "execution_count": 8,
   "metadata": {},
   "outputs": [],
   "source": [
    "# For answering week 3 quiz question 2\n",
    "df_ts_SG=convert_to_ts(df_raw, country='Singapore')\n",
    "df_ts_UK=convert_to_ts(df_raw, country='United Kingdom')\n",
    "df_ts_GE=convert_to_ts(df_raw, country='Germany')\n",
    "df_ts_USA=convert_to_ts(df_raw, country='USA')\n",
    "df_ts_EIRE=convert_to_ts(df_raw, country='EIRE')"
   ]
  },
  {
   "cell_type": "code",
   "execution_count": 9,
   "metadata": {},
   "outputs": [
    {
     "data": {
      "text/html": [
       "<div>\n",
       "<style scoped>\n",
       "    .dataframe tbody tr th:only-of-type {\n",
       "        vertical-align: middle;\n",
       "    }\n",
       "\n",
       "    .dataframe tbody tr th {\n",
       "        vertical-align: top;\n",
       "    }\n",
       "\n",
       "    .dataframe thead th {\n",
       "        text-align: right;\n",
       "    }\n",
       "</style>\n",
       "<table border=\"1\" class=\"dataframe\">\n",
       "  <thead>\n",
       "    <tr style=\"text-align: right;\">\n",
       "      <th></th>\n",
       "      <th>date</th>\n",
       "      <th>purchases</th>\n",
       "      <th>unique_invoices</th>\n",
       "      <th>unique_streams</th>\n",
       "      <th>total_views</th>\n",
       "      <th>year_month</th>\n",
       "      <th>revenue</th>\n",
       "    </tr>\n",
       "  </thead>\n",
       "  <tbody>\n",
       "    <tr>\n",
       "      <th>0</th>\n",
       "      <td>2017-11-01</td>\n",
       "      <td>0</td>\n",
       "      <td>0</td>\n",
       "      <td>0</td>\n",
       "      <td>0</td>\n",
       "      <td>2017-11</td>\n",
       "      <td>0.0</td>\n",
       "    </tr>\n",
       "    <tr>\n",
       "      <th>1</th>\n",
       "      <td>2017-11-02</td>\n",
       "      <td>0</td>\n",
       "      <td>0</td>\n",
       "      <td>0</td>\n",
       "      <td>0</td>\n",
       "      <td>2017-11</td>\n",
       "      <td>0.0</td>\n",
       "    </tr>\n",
       "    <tr>\n",
       "      <th>2</th>\n",
       "      <td>2017-11-03</td>\n",
       "      <td>0</td>\n",
       "      <td>0</td>\n",
       "      <td>0</td>\n",
       "      <td>0</td>\n",
       "      <td>2017-11</td>\n",
       "      <td>0.0</td>\n",
       "    </tr>\n",
       "    <tr>\n",
       "      <th>3</th>\n",
       "      <td>2017-11-04</td>\n",
       "      <td>0</td>\n",
       "      <td>0</td>\n",
       "      <td>0</td>\n",
       "      <td>0</td>\n",
       "      <td>2017-11</td>\n",
       "      <td>0.0</td>\n",
       "    </tr>\n",
       "    <tr>\n",
       "      <th>4</th>\n",
       "      <td>2017-11-05</td>\n",
       "      <td>0</td>\n",
       "      <td>0</td>\n",
       "      <td>0</td>\n",
       "      <td>0</td>\n",
       "      <td>2017-11</td>\n",
       "      <td>0.0</td>\n",
       "    </tr>\n",
       "  </tbody>\n",
       "</table>\n",
       "</div>"
      ],
      "text/plain": [
       "        date  purchases  unique_invoices  unique_streams  total_views  \\\n",
       "0 2017-11-01          0                0               0            0   \n",
       "1 2017-11-02          0                0               0            0   \n",
       "2 2017-11-03          0                0               0            0   \n",
       "3 2017-11-04          0                0               0            0   \n",
       "4 2017-11-05          0                0               0            0   \n",
       "\n",
       "  year_month  revenue  \n",
       "0    2017-11      0.0  \n",
       "1    2017-11      0.0  \n",
       "2    2017-11      0.0  \n",
       "3    2017-11      0.0  \n",
       "4    2017-11      0.0  "
      ]
     },
     "execution_count": 9,
     "metadata": {},
     "output_type": "execute_result"
    }
   ],
   "source": [
    "df_ts_EIRE.head()"
   ]
  },
  {
   "cell_type": "code",
   "execution_count": 10,
   "metadata": {},
   "outputs": [
    {
     "data": {
      "text/html": [
       "<div>\n",
       "<style scoped>\n",
       "    .dataframe tbody tr th:only-of-type {\n",
       "        vertical-align: middle;\n",
       "    }\n",
       "\n",
       "    .dataframe tbody tr th {\n",
       "        vertical-align: top;\n",
       "    }\n",
       "\n",
       "    .dataframe thead th {\n",
       "        text-align: right;\n",
       "    }\n",
       "</style>\n",
       "<table border=\"1\" class=\"dataframe\">\n",
       "  <thead>\n",
       "    <tr style=\"text-align: right;\">\n",
       "      <th></th>\n",
       "      <th>Country</th>\n",
       "      <th>Revenue</th>\n",
       "    </tr>\n",
       "  </thead>\n",
       "  <tbody>\n",
       "    <tr>\n",
       "      <th>0</th>\n",
       "      <td>UK</td>\n",
       "      <td>3343551.644</td>\n",
       "    </tr>\n",
       "    <tr>\n",
       "      <th>1</th>\n",
       "      <td>Singapore</td>\n",
       "      <td>12945.460</td>\n",
       "    </tr>\n",
       "    <tr>\n",
       "      <th>2</th>\n",
       "      <td>USA</td>\n",
       "      <td>1110.900</td>\n",
       "    </tr>\n",
       "    <tr>\n",
       "      <th>3</th>\n",
       "      <td>EIRE</td>\n",
       "      <td>104589.400</td>\n",
       "    </tr>\n",
       "    <tr>\n",
       "      <th>4</th>\n",
       "      <td>Germany</td>\n",
       "      <td>45651.261</td>\n",
       "    </tr>\n",
       "  </tbody>\n",
       "</table>\n",
       "</div>"
      ],
      "text/plain": [
       "     Country      Revenue\n",
       "0         UK  3343551.644\n",
       "1  Singapore    12945.460\n",
       "2        USA     1110.900\n",
       "3       EIRE   104589.400\n",
       "4    Germany    45651.261"
      ]
     },
     "execution_count": 10,
     "metadata": {},
     "output_type": "execute_result"
    }
   ],
   "source": [
    "df_total_revenue=pd.DataFrame({'Country':['UK','Singapore','USA','EIRE','Germany'],\n",
    "                              'Revenue':[df_ts_UK['revenue'].sum(),df_ts_SG['revenue'].sum(),df_ts_USA['revenue'].sum(),df_ts_EIRE['revenue'].sum(),df_ts_GE['revenue'].sum()]})\n",
    "\n",
    "df_total_revenue"
   ]
  },
  {
   "cell_type": "code",
   "execution_count": 11,
   "metadata": {},
   "outputs": [
    {
     "data": {
      "text/html": [
       "<div>\n",
       "<style scoped>\n",
       "    .dataframe tbody tr th:only-of-type {\n",
       "        vertical-align: middle;\n",
       "    }\n",
       "\n",
       "    .dataframe tbody tr th {\n",
       "        vertical-align: top;\n",
       "    }\n",
       "\n",
       "    .dataframe thead th {\n",
       "        text-align: right;\n",
       "    }\n",
       "</style>\n",
       "<table border=\"1\" class=\"dataframe\">\n",
       "  <thead>\n",
       "    <tr style=\"text-align: right;\">\n",
       "      <th></th>\n",
       "      <th>Country</th>\n",
       "      <th>Revenue</th>\n",
       "    </tr>\n",
       "  </thead>\n",
       "  <tbody>\n",
       "    <tr>\n",
       "      <th>0</th>\n",
       "      <td>UK</td>\n",
       "      <td>3343551.644</td>\n",
       "    </tr>\n",
       "  </tbody>\n",
       "</table>\n",
       "</div>"
      ],
      "text/plain": [
       "  Country      Revenue\n",
       "0      UK  3343551.644"
      ]
     },
     "execution_count": 11,
     "metadata": {},
     "output_type": "execute_result"
    }
   ],
   "source": [
    "df_total_revenue[df_total_revenue['Revenue']==df_total_revenue['Revenue'].max()]"
   ]
  },
  {
   "cell_type": "code",
   "execution_count": 12,
   "metadata": {},
   "outputs": [],
   "source": [
    "X,y,dates=engineer_features(df_ts)"
   ]
  },
  {
   "cell_type": "code",
   "execution_count": 13,
   "metadata": {
    "scrolled": true
   },
   "outputs": [
    {
     "data": {
      "text/html": [
       "<div>\n",
       "<style scoped>\n",
       "    .dataframe tbody tr th:only-of-type {\n",
       "        vertical-align: middle;\n",
       "    }\n",
       "\n",
       "    .dataframe tbody tr th {\n",
       "        vertical-align: top;\n",
       "    }\n",
       "\n",
       "    .dataframe thead th {\n",
       "        text-align: right;\n",
       "    }\n",
       "</style>\n",
       "<table border=\"1\" class=\"dataframe\">\n",
       "  <thead>\n",
       "    <tr style=\"text-align: right;\">\n",
       "      <th></th>\n",
       "      <th>previous_7</th>\n",
       "      <th>previous_14</th>\n",
       "      <th>previous_28</th>\n",
       "      <th>previous_70</th>\n",
       "      <th>previous_year</th>\n",
       "      <th>recent_invoices</th>\n",
       "      <th>recent_views</th>\n",
       "    </tr>\n",
       "  </thead>\n",
       "  <tbody>\n",
       "    <tr>\n",
       "      <th>0</th>\n",
       "      <td>14450.54</td>\n",
       "      <td>14450.54</td>\n",
       "      <td>14450.54</td>\n",
       "      <td>14450.540</td>\n",
       "      <td>0.00</td>\n",
       "      <td>5.928571</td>\n",
       "      <td>537.392857</td>\n",
       "    </tr>\n",
       "    <tr>\n",
       "      <th>1</th>\n",
       "      <td>27862.50</td>\n",
       "      <td>27862.50</td>\n",
       "      <td>27862.50</td>\n",
       "      <td>27862.500</td>\n",
       "      <td>0.00</td>\n",
       "      <td>10.310345</td>\n",
       "      <td>1007.103448</td>\n",
       "    </tr>\n",
       "    <tr>\n",
       "      <th>2</th>\n",
       "      <td>41152.75</td>\n",
       "      <td>41152.75</td>\n",
       "      <td>41152.75</td>\n",
       "      <td>41152.750</td>\n",
       "      <td>0.00</td>\n",
       "      <td>14.966667</td>\n",
       "      <td>1499.066667</td>\n",
       "    </tr>\n",
       "    <tr>\n",
       "      <th>3</th>\n",
       "      <td>50840.03</td>\n",
       "      <td>50840.03</td>\n",
       "      <td>50840.03</td>\n",
       "      <td>50840.030</td>\n",
       "      <td>0.00</td>\n",
       "      <td>18.533333</td>\n",
       "      <td>1916.533333</td>\n",
       "    </tr>\n",
       "    <tr>\n",
       "      <th>4</th>\n",
       "      <td>52283.29</td>\n",
       "      <td>52283.29</td>\n",
       "      <td>52283.29</td>\n",
       "      <td>52283.290</td>\n",
       "      <td>0.00</td>\n",
       "      <td>19.600000</td>\n",
       "      <td>2026.966667</td>\n",
       "    </tr>\n",
       "    <tr>\n",
       "      <th>...</th>\n",
       "      <td>...</td>\n",
       "      <td>...</td>\n",
       "      <td>...</td>\n",
       "      <td>...</td>\n",
       "      <td>...</td>\n",
       "      <td>...</td>\n",
       "      <td>...</td>\n",
       "    </tr>\n",
       "    <tr>\n",
       "      <th>544</th>\n",
       "      <td>35654.01</td>\n",
       "      <td>88316.24</td>\n",
       "      <td>184306.67</td>\n",
       "      <td>378375.021</td>\n",
       "      <td>223505.56</td>\n",
       "      <td>70.000000</td>\n",
       "      <td>6702.533333</td>\n",
       "    </tr>\n",
       "    <tr>\n",
       "      <th>545</th>\n",
       "      <td>23045.09</td>\n",
       "      <td>67418.62</td>\n",
       "      <td>184306.67</td>\n",
       "      <td>375436.261</td>\n",
       "      <td>227317.94</td>\n",
       "      <td>70.000000</td>\n",
       "      <td>6702.533333</td>\n",
       "    </tr>\n",
       "    <tr>\n",
       "      <th>546</th>\n",
       "      <td>20834.33</td>\n",
       "      <td>62382.30</td>\n",
       "      <td>160811.46</td>\n",
       "      <td>370127.071</td>\n",
       "      <td>234869.69</td>\n",
       "      <td>71.366667</td>\n",
       "      <td>6839.200000</td>\n",
       "    </tr>\n",
       "    <tr>\n",
       "      <th>547</th>\n",
       "      <td>22111.84</td>\n",
       "      <td>62893.44</td>\n",
       "      <td>163049.25</td>\n",
       "      <td>371180.251</td>\n",
       "      <td>237016.78</td>\n",
       "      <td>73.533333</td>\n",
       "      <td>7026.733333</td>\n",
       "    </tr>\n",
       "    <tr>\n",
       "      <th>548</th>\n",
       "      <td>24896.97</td>\n",
       "      <td>62197.61</td>\n",
       "      <td>163867.77</td>\n",
       "      <td>373557.381</td>\n",
       "      <td>236716.83</td>\n",
       "      <td>72.200000</td>\n",
       "      <td>7039.966667</td>\n",
       "    </tr>\n",
       "  </tbody>\n",
       "</table>\n",
       "<p>549 rows × 7 columns</p>\n",
       "</div>"
      ],
      "text/plain": [
       "     previous_7  previous_14  previous_28  previous_70  previous_year  \\\n",
       "0      14450.54     14450.54     14450.54    14450.540           0.00   \n",
       "1      27862.50     27862.50     27862.50    27862.500           0.00   \n",
       "2      41152.75     41152.75     41152.75    41152.750           0.00   \n",
       "3      50840.03     50840.03     50840.03    50840.030           0.00   \n",
       "4      52283.29     52283.29     52283.29    52283.290           0.00   \n",
       "..          ...          ...          ...          ...            ...   \n",
       "544    35654.01     88316.24    184306.67   378375.021      223505.56   \n",
       "545    23045.09     67418.62    184306.67   375436.261      227317.94   \n",
       "546    20834.33     62382.30    160811.46   370127.071      234869.69   \n",
       "547    22111.84     62893.44    163049.25   371180.251      237016.78   \n",
       "548    24896.97     62197.61    163867.77   373557.381      236716.83   \n",
       "\n",
       "     recent_invoices  recent_views  \n",
       "0           5.928571    537.392857  \n",
       "1          10.310345   1007.103448  \n",
       "2          14.966667   1499.066667  \n",
       "3          18.533333   1916.533333  \n",
       "4          19.600000   2026.966667  \n",
       "..               ...           ...  \n",
       "544        70.000000   6702.533333  \n",
       "545        70.000000   6702.533333  \n",
       "546        71.366667   6839.200000  \n",
       "547        73.533333   7026.733333  \n",
       "548        72.200000   7039.966667  \n",
       "\n",
       "[549 rows x 7 columns]"
      ]
     },
     "execution_count": 13,
     "metadata": {},
     "output_type": "execute_result"
    }
   ],
   "source": [
    "X"
   ]
  },
  {
   "cell_type": "code",
   "execution_count": null,
   "metadata": {},
   "outputs": [],
   "source": []
  },
  {
   "cell_type": "code",
   "execution_count": 19,
   "metadata": {},
   "outputs": [
    {
     "data": {
      "text/plain": [
       "<AxesSubplot:xlabel='Country'>"
      ]
     },
     "execution_count": 19,
     "metadata": {},
     "output_type": "execute_result"
    },
    {
     "data": {
      "image/png": "[encoded data removed]",
      "text/plain": [
       "<Figure size 1440x432 with 1 Axes>"
      ]
     },
     "metadata": {
      "needs_background": "light"
     },
     "output_type": "display_data"
    }
   ],
   "source": [
    "# plot the top 10 countries by revenue\n",
    "fig = plt.figure(figsize=(20,6))\n",
    "ax1 = fig.add_subplot(121)\n",
    "table_c = pd.pivot_table(df_total_revenue.head(11), index='Country', values='Revenue')\n",
    "table_c.plot(kind='bar',ax=ax1)"
   ]
  },
  {
   "cell_type": "code",
   "execution_count": 37,
   "metadata": {},
   "outputs": [
    {
     "data": {
      "text/plain": [
       "<AxesSubplot:xlabel='date'>"
      ]
     },
     "execution_count": 37,
     "metadata": {},
     "output_type": "execute_result"
    },
    {
     "data": {
      "image/png": "[encoded data removed]",
      "text/plain": [
       "<Figure size 1080x288 with 1 Axes>"
      ]
     },
     "metadata": {
      "needs_background": "light"
     },
     "output_type": "display_data"
    }
   ],
   "source": [
    "df_ts.plot(x=\"date\", y=\"revenue\", figsize=(15,4))"
   ]
  },
  {
   "cell_type": "code",
   "execution_count": null,
   "metadata": {},
   "outputs": [],
   "source": []
  }
 ],
 "metadata": {
  "kernelspec": {
   "display_name": "Python 3",
   "language": "python",
   "name": "python3"
  },
  "language_info": {
   "codemirror_mode": {
    "name": "ipython",
    "version": 3
   },
   "file_extension": ".py",
   "mimetype": "text/x-python",
   "name": "python",
   "nbconvert_exporter": "python",
   "pygments_lexer": "ipython3",
   "version": "3.8.0"
  }
 },
 "nbformat": 4,
 "nbformat_minor": 2
}
